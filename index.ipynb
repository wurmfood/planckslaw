{
 "cells": [
  {
   "cell_type": "markdown",
   "metadata": {
    "tags": []
   },
   "source": [
    "# Blackbody radiation formula\n",
    "\n",
    "## Planck's Law\n",
    "\n",
    "$$B_\\lambda (T) = \\frac{2hc^2}{\\lambda^5 e^{\\frac{hc}{\\lambda k_B T}}-1}$$\n",
    "\n",
    "Where $B$ is the amount of energy emitted at a given wavelength, $h$ is Planck's constant, $k_B$ is the Boltzmann constant, and $c$ is the speed of light.\n",
    "\n",
    "$B_\\lambda$ has units of $W\\cdot sr^{-1}\\cdot m^{-3}$.\n",
    "\n",
    "Note that:\n",
    "\n",
    "$k_B = 1.480 649 \\times 10^{-23} J/K$\n",
    "\n",
    "$h = 6.626 070 15 \\times 10^{-34} J\\cdot s$\n",
    "\n",
    "$c = 299 792 458 m/s$\n",
    "\n",
    "## Wavelength of maximum emission (Wien's Law)\n",
    "\n",
    "We can find the wavelength where the emission peaks by using:\n",
    "\n",
    "$$\\lambda = \\frac{2.898 \\times 10^{-3}}{T}$$"
   ]
  },
  {
   "cell_type": "code",
   "execution_count": 1,
   "metadata": {
    "tags": []
   },
   "outputs": [],
   "source": [
    "# sphinx_gallery_thumnail_number = 3\n",
    "%matplotlib inline\n",
    "import IPython\n",
    "import matplotlib.pyplot as plt\n",
    "import numpy as np\n",
    "import scipy.constants as sc\n",
    "import ipywidgets as widgets\n",
    "from matplotlib.image import BboxImage\n",
    "from matplotlib.transforms import Bbox, TransformedBbox\n",
    "from matplotlib.patches import Rectangle\n",
    "import pandas as pd"
   ]
  },
  {
   "cell_type": "code",
   "execution_count": 2,
   "metadata": {
    "tags": []
   },
   "outputs": [
    {
     "data": {
      "application/vnd.jupyter.widget-view+json": {
       "model_id": "bcb6ec0e08524f9f88e4420e2fae80b3",
       "version_major": 2,
       "version_minor": 0
      },
      "text/plain": [
       "interactive(children=(IntSlider(value=3000, description='Temperature (K)', layout=Layout(width='400px'), max=2…"
      ]
     },
     "metadata": {},
     "output_type": "display_data"
    }
   ],
   "source": [
    "# For our x-axis. Create a set of numbers from 1x10^-8 to 2x10^-6 in increments of 1x10^-9\n",
    "# Note that starting at 1x10^-9, (1 nm), where I'd like, gets an overflow error.\n",
    "lamda = np.arange(1e-8, 2e-6, 5e-9)\n",
    "# A couple constants. Boltzman's, Planck's, and the speed of light.\n",
    "B = sc.Boltzmann\n",
    "h = sc.h\n",
    "c = sc.c\n",
    "\n",
    "# temp_to_rgb is based on a file that contains a bunch of rgb values for different temperatures.\n",
    "# Data from:\n",
    "# Mitchell Charity <mcharity@lcs.mit.edu>\n",
    "# http://www.vendian.org/mncharity/dir3/blackbody/\n",
    "# Load the data into a pandas dataframe.\n",
    "temp_to_rgb = pd.read_pickle('temp_to_rgb.data')\n",
    "\n",
    "# Function to calculate our curve based on a temperature and wavelength.\n",
    "# Note that this is used by the plotting software. T is set by the slider.\n",
    "# Wav is our x-axis values.\n",
    "def planck(wav, T):\n",
    "    numerator = 2*h*c**2\n",
    "    exponent = np.exp(h*c/(wav*B*T))\n",
    "    denominator = wav**5 * (exponent - 1.0)\n",
    "    return numerator/denominator\n",
    "\n",
    "# Calculate the peak wavelength for the curve using Wien's Law.\n",
    "def maxlamda(T):\n",
    "    return (2.898*1e-3)/T\n",
    "\n",
    "# Set the style of our plot. A dark background seemed appropriate for the topic.\n",
    "plt.style.use('dark_background')\n",
    "# Make it a larger plot than normal. Default option is pretty small.\n",
    "plt.rcParams['figure.figsize'] = [16,6]\n",
    "\n",
    "# Annoying thing we have to do to get our graph to update. I want to find a better way\n",
    "# to do this at some point. All of this stuff in here makes the whole thing slow.\n",
    "# This function is called whenever the slider is updated.\n",
    "def g(T):\n",
    "    # Generate the actual blackbody curve.\n",
    "    bbr_curve = plt.plot(lamda*1e9, planck(lamda, T), label=f'{T} K')\n",
    "    # Get the axes for our plot.\n",
    "    ax = plt.gca()\n",
    "    # Since our x and y axes can change, get our max values. We'll need them later. Toss the min.\n",
    "    _, curymax = ax.get_ylim()\n",
    "    _, curxmax = ax.get_xlim()\n",
    "    \n",
    "    # Now that we have our curve, calculate our peak value. Draw a line there and add it to the legend.\n",
    "    max_lamda = maxlamda(T)\n",
    "    plt.axvline(max_lamda*1e9, color='r', label=f'Max wavelength: {max_lamda*1e9:3.1f} nm')\n",
    "    \n",
    "    # Style our grid, including titles and axes labels.\n",
    "    plt.grid(visible=True, color='DarkTurquoise', alpha=0.2, linestyle=':', linewidth=2)\n",
    "    plt.xlabel('$\\lambda$ (Wavelength) ($10^{-9}$ m)')\n",
    "    plt.ylabel('Energy (W$\\cdot$ sr$^{-1}\\cdot$ m$^{-3}$)')\n",
    "    plt.title('Blackbody Radiation', fontsize=14)\n",
    "    \n",
    "    # Show the appropriate colors. This should be able to be done through a Bbox, but I don't\n",
    "    # have that working yet. These create small boxes. The first two are the min and max values.\n",
    "    # They are based on definitions of the color ranges.\n",
    "    plt.axvspan(700, curxmax, facecolor='#ff0000', alpha=0.05) #Infrared\n",
    "    plt.axvspan(635, 700, facecolor='#ff0000', alpha=0.5) # Red\n",
    "    plt.axvspan(590, 635, facecolor='#ff7f00', alpha=0.5) # Orange\n",
    "    plt.axvspan(560, 590, facecolor='#ffff00', alpha=0.5) # Yellow\n",
    "    plt.axvspan(520, 560, facecolor='#00ff00', alpha=0.5) # Green\n",
    "    plt.axvspan(490, 520, facecolor='#00ffff', alpha=0.5) # Cyan\n",
    "    plt.axvspan(450, 490, facecolor='#0000ff', alpha=0.5) # Blue\n",
    "    plt.axvspan(400, 450, facecolor='#7F00FF', alpha=0.5) # Violet\n",
    "    plt.axvspan(10, 400, facecolor='#7F00FF', alpha=0.05) # UV\n",
    "    \n",
    "    # Put labels in for the IR and UV sections.\n",
    "    ax.annotate('Infrared', xy=(1000, curymax/2), fontsize=12)\n",
    "    ax.annotate('Ultraviolet', xy=(150, curymax/2), fontsize=12)\n",
    "    \n",
    "    # Get the rgb color that goes with our current temperature from the pandas dataframe.\n",
    "    # This says: Find the right temperature. Get the value under rgb. Pull out just the piece of data.\n",
    "    colorval = temp_to_rgb.loc[temp_to_rgb[\"Temperature\"] == T, \"rgb\"].iloc[0]\n",
    "    # Create a rectangle to put our color in and label it.\n",
    "    showtemp = Rectangle((1750, curymax/2), 300, 0.2*curymax, facecolor=colorval)\n",
    "    ax.annotate(\"Object Color\", xy=(1800, curymax/2 + 0.22*curymax), fontsize=14)\n",
    "    ax.add_patch(showtemp)\n",
    "    \n",
    "    # Generate our legend.\n",
    "    plt.legend()\n",
    "    # Finally, show the actual plot.\n",
    "    plt.show()\n",
    "\n",
    "slider_style = {'description_width': 'initial'}\n",
    "slider_layout = widgets.Layout(width='400px')\n",
    "\n",
    "# Here's our widget. It calls our update function, g. We're using a slider with some simple defaults.\n",
    "interactive_plot = widgets.interactive(g, T=widgets.IntSlider(\n",
    "    min=2100, \n",
    "    max=20000, \n",
    "    value=3000, \n",
    "    step=100,\n",
    "    description=\"Temperature (K)\",\n",
    "    style=slider_style,\n",
    "    layout=slider_layout,\n",
    "))\n",
    "# Actually show the slider.\n",
    "interactive_plot"
   ]
  },
  {
   "cell_type": "markdown",
   "metadata": {},
   "source": [
    "# What am I looking at?\n",
    "\n",
    "Every object that has a temperature gives off light. The light given off depends on the temperature of the object. Think of a piece of iron that is heated up. Initially, at room temperature, it doesn't look like it's giving off any light. With the right tools, though, you can see that it's giving off infrared light. As you heat it up, however, the iron will start to glow a dull red and then move more toward a white color. Really, everything does this, we just don't have a way to see it with our eyes alone.\n",
    "\n",
    "This graph shows you the amount of light given off at different wavelengths. The x-axis shows the different wavelengths (visible light areas are approximated on the graph based on common descriptions of color ranges) of light given off. The y-axis shows how much light (well, energy, technically) is given off at those wavelengths. Notice that the scale for the y-axis changes. This is because there's a huge difference in the amount of light given off by a cooler object compared to one that is much hotter. If we used one scale for all of them it would make it very difficult to see.\n",
    "\n",
    "In addition, the graph highlights the peak wavelength given off by something and the approximate color of the object.\n",
    "\n",
    "Data for temperature to color conversion taken from the work of [Mitchell Charity](mcharity@lcs.mit.edu) at <http://www.vendian.org/mncharity/dir3/blackbody/>.\n",
    "\n",
    "Built by D. Vetter, 2022. <dvetter@protonmail.com> using [Voila](https://github.com/voila-dashboards/voila) and [JupyterLab](https://jupyter.org/).\n",
    "\n",
    "[![DigitalOcean Referral Badge](https://web-platforms.sfo2.cdn.digitaloceanspaces.com/WWW/Badge%201.svg)](https://www.digitalocean.com/?refcode=ec55721203e6&utm_campaign=Referral_Invite&utm_medium=Referral_Program&utm_source=badge)"
   ]
  }
 ],
 "metadata": {
  "kernelspec": {
   "display_name": "Python 3 (ipykernel)",
   "language": "python",
   "name": "python3"
  },
  "language_info": {
   "codemirror_mode": {
    "name": "ipython",
    "version": 3
   },
   "file_extension": ".py",
   "mimetype": "text/x-python",
   "name": "python",
   "nbconvert_exporter": "python",
   "pygments_lexer": "ipython3",
   "version": "3.9.10"
  }
 },
 "nbformat": 4,
 "nbformat_minor": 4
}
